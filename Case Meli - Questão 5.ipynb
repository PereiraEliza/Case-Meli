{
 "cells": [
  {
   "cell_type": "markdown",
   "metadata": {},
   "source": [
    "Que tipo de abordagem usar para definir em qual % de posições explorar e em\n",
    "qual % explorar?\n",
    "\n",
    "Inicialmente usaria 50% na abordagem de conversão de item daquele perfil de cliente, utilizando a estratégia de colocar nas posições de destaque as ofertas mais convertidas daquele perfil, em seguida com 30% as mais visitadas do perfil pois demostra o interesse do cliente e nos 20% restantes alocaria as experimentações.\n",
    "\n",
    "\n",
    "● Que métrica você usaria para avaliar esse experimento?\n",
    "\n",
    "% de visitas / ofertadas (perfil e experimentos)\n",
    "% de conversão / visitadas\n",
    "% de conversão / ofertadas (perfil e experimentos)\n",
    "\n",
    "\n",
    "● Como você aproveitaria a interação e o feedback do usuário?\n",
    "Usaria como aprendizado no modelo de direcionamento e classificação do cliente para movimentação de ofertas futuras e mudança medir possíveis mudanças do perfil de compra nos nichos de clientes.\n"
   ]
  }
 ],
 "metadata": {
  "kernelspec": {
   "display_name": "Python 3",
   "language": "python",
   "name": "python3"
  },
  "language_info": {
   "codemirror_mode": {
    "name": "ipython",
    "version": 3
   },
   "file_extension": ".py",
   "mimetype": "text/x-python",
   "name": "python",
   "nbconvert_exporter": "python",
   "pygments_lexer": "ipython3",
   "version": "3.8.5"
  }
 },
 "nbformat": 4,
 "nbformat_minor": 4
}
